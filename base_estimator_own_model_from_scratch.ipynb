{
  "nbformat": 4,
  "nbformat_minor": 0,
  "metadata": {
    "kernelspec": {
      "language": "python",
      "display_name": "Python 3",
      "name": "python3"
    },
    "language_info": {
      "pygments_lexer": "ipython3",
      "nbconvert_exporter": "python",
      "version": "3.6.4",
      "file_extension": ".py",
      "codemirror_mode": {
        "name": "ipython",
        "version": 3
      },
      "name": "python",
      "mimetype": "text/x-python"
    },
    "colab": {
      "name": "base-estimator-own-model-from-scratch.ipynb",
      "provenance": [],
      "collapsed_sections": [],
      "include_colab_link": true
    }
  },
  "cells": [
    {
      "cell_type": "markdown",
      "metadata": {
        "id": "view-in-github",
        "colab_type": "text"
      },
      "source": [
        "<a href=\"https://colab.research.google.com/github/manifoldailearning/Youtube/blob/master/base_estimator_own_model_from_scratch.ipynb\" target=\"_parent\"><img src=\"https://colab.research.google.com/assets/colab-badge.svg\" alt=\"Open In Colab\"/></a>"
      ]
    },
    {
      "cell_type": "markdown",
      "metadata": {
        "id": "KjDl0iyeQtno",
        "colab_type": "text"
      },
      "source": [
        "[Watch on youtube by clicking here](https://https://youtu.be/9n14EAQK5js)\n",
        "\n",
        "URL : https://youtu.be/9n14EAQK5js"
      ]
    },
    {
      "cell_type": "code",
      "metadata": {
        "_uuid": "d629ff2d2480ee46fbb7e2d37f6b5fab8052498a",
        "_cell_guid": "79c7e3d0-c299-4dcb-8224-4455121ee9b0",
        "trusted": true,
        "id": "5KcWjbHZL-Bq",
        "colab_type": "code",
        "colab": {}
      },
      "source": [
        "from sklearn.base import BaseEstimator\n",
        "import numpy as np\n",
        "import matplotlib.pyplot as plt"
      ],
      "execution_count": null,
      "outputs": []
    },
    {
      "cell_type": "code",
      "metadata": {
        "trusted": true,
        "id": "ZIOcg2m2L-Bs",
        "colab_type": "code",
        "colab": {}
      },
      "source": [
        "class LRScratch(BaseEstimator):\n",
        "    def fit(self,X,y):\n",
        "        self.Xb = np.c_[np.ones((X.shape[0],1)),X] #adding x0 = 1\n",
        "        self.theta_ = np.linalg.inv(self.Xb.T.dot(self.Xb)).dot(self.Xb.T).dot(y)\n",
        "        print(\"Training Completed\")\n",
        "        \n",
        "    def predict(self,X_test):\n",
        "        self.X_new = np.c_[np.ones((len(X_test),1)),X_test]\n",
        "        y_predict = self.X_new.dot(self.theta_)\n",
        "        return y_predict"
      ],
      "execution_count": null,
      "outputs": []
    },
    {
      "cell_type": "code",
      "metadata": {
        "trusted": true,
        "id": "jXfqX8IHL-Bv",
        "colab_type": "code",
        "colab": {}
      },
      "source": [
        "X = np.arange(1,4).reshape(3,1)\n",
        "y = np.arange(1,4).reshape(3,1)"
      ],
      "execution_count": null,
      "outputs": []
    },
    {
      "cell_type": "code",
      "metadata": {
        "trusted": true,
        "id": "Izr8C0tTL-Bx",
        "colab_type": "code",
        "colab": {}
      },
      "source": [
        "lr = LRScratch()"
      ],
      "execution_count": null,
      "outputs": []
    },
    {
      "cell_type": "code",
      "metadata": {
        "trusted": true,
        "id": "H4GMMAuAL-Bz",
        "colab_type": "code",
        "colab": {}
      },
      "source": [
        "lr.fit(X,y)"
      ],
      "execution_count": null,
      "outputs": []
    },
    {
      "cell_type": "code",
      "metadata": {
        "trusted": true,
        "id": "gKZJQ8JtL-B1",
        "colab_type": "code",
        "colab": {}
      },
      "source": [
        "lr.theta_"
      ],
      "execution_count": null,
      "outputs": []
    },
    {
      "cell_type": "code",
      "metadata": {
        "trusted": true,
        "id": "qxbkNt4TL-B4",
        "colab_type": "code",
        "colab": {}
      },
      "source": [
        "lr.predict(X)"
      ],
      "execution_count": null,
      "outputs": []
    },
    {
      "cell_type": "code",
      "metadata": {
        "trusted": true,
        "id": "O4h9_2oDL-B7",
        "colab_type": "code",
        "colab": {}
      },
      "source": [
        "np.random.seed(0)\n",
        "X = np.random.rand(100,1)\n",
        "y = 4 + 3*X + np.random.randn(100,1)\n",
        "plt.plot(X,y,\"o\")\n",
        "plt.show()"
      ],
      "execution_count": null,
      "outputs": []
    },
    {
      "cell_type": "code",
      "metadata": {
        "trusted": true,
        "id": "fZWLXvHwL-B-",
        "colab_type": "code",
        "colab": {}
      },
      "source": [
        "X.shape"
      ],
      "execution_count": null,
      "outputs": []
    },
    {
      "cell_type": "code",
      "metadata": {
        "trusted": true,
        "id": "Zqdnt_u5L-CA",
        "colab_type": "code",
        "colab": {}
      },
      "source": [
        "lr = LRScratch()"
      ],
      "execution_count": null,
      "outputs": []
    },
    {
      "cell_type": "code",
      "metadata": {
        "trusted": true,
        "id": "rfcM0qhnL-CB",
        "colab_type": "code",
        "colab": {}
      },
      "source": [
        "lr.fit(X,y)"
      ],
      "execution_count": null,
      "outputs": []
    },
    {
      "cell_type": "code",
      "metadata": {
        "trusted": true,
        "id": "gWCidoxSL-CD",
        "colab_type": "code",
        "colab": {}
      },
      "source": [
        "lr.theta_"
      ],
      "execution_count": null,
      "outputs": []
    },
    {
      "cell_type": "code",
      "metadata": {
        "trusted": true,
        "id": "tgLxlzqEL-CF",
        "colab_type": "code",
        "colab": {}
      },
      "source": [
        "lr.predict(X)"
      ],
      "execution_count": null,
      "outputs": []
    },
    {
      "cell_type": "markdown",
      "metadata": {
        "id": "7g-UpQqBL-CH",
        "colab_type": "text"
      },
      "source": [
        "## Making sure that Model matches all the checks by Scikit learn"
      ]
    },
    {
      "cell_type": "code",
      "metadata": {
        "trusted": true,
        "id": "MSZr8U4rL-CI",
        "colab_type": "code",
        "colab": {}
      },
      "source": [
        "from sklearn.utils.estimator_checks import check_estimator\n",
        "from sklearn.utils.validation import check_X_y, check_array, check_is_fitted"
      ],
      "execution_count": null,
      "outputs": []
    },
    {
      "cell_type": "markdown",
      "metadata": {
        "id": "Qv32wFJpL-CK",
        "colab_type": "text"
      },
      "source": [
        "Note:\n",
        "All variables inside the Class should end with underscore"
      ]
    },
    {
      "cell_type": "code",
      "metadata": {
        "trusted": true,
        "id": "LXzY3_6vL-CK",
        "colab_type": "code",
        "colab": {}
      },
      "source": [
        "class LRScratch(BaseEstimator):\n",
        "    def fit(self,X,y):\n",
        "        X,y = check_X_y(X,y) #Checking if both X & y has correct shape\n",
        "        self.n_features_in_ = X.shape[1] #Setting the number of features in Input data (new as per 0.24)\n",
        "        self.Xb_ = np.c_[np.ones((X.shape[0],1)),X] #adding x0 = 1\n",
        "        self.theta_ = np.linalg.inv(self.Xb_.T.dot(self.Xb_)).dot(self.Xb_.T).dot(y)\n",
        "        self.coef_ = self.theta_[1:]\n",
        "        self.intercept_ = self.theta_[0]\n",
        "        print(\"Training Completed\")\n",
        "        return self #Should Return Self : Mandatory\n",
        "        \n",
        "    def predict(self,X_test):\n",
        "        check_is_fitted(self) # Check to verify the Fit has been called\n",
        "        X_test = check_array(X_test) # Validate the input\n",
        "        return X_test@self.coef_+self.intercept_"
      ],
      "execution_count": null,
      "outputs": []
    },
    {
      "cell_type": "code",
      "metadata": {
        "trusted": true,
        "id": "9JPqO5wKL-CM",
        "colab_type": "code",
        "colab": {}
      },
      "source": [
        "LR = LRScratch()"
      ],
      "execution_count": null,
      "outputs": []
    },
    {
      "cell_type": "markdown",
      "metadata": {
        "id": "TM2LiYbZL-CO",
        "colab_type": "text"
      },
      "source": [
        "## Check if estimator adheres to scikit-learn conventions.\n",
        "\n",
        "https://scikit-learn.org/stable/modules/generated/sklearn.utils.estimator_checks.check_estimator.html#sklearn.utils.estimator_checks.check_estimator"
      ]
    },
    {
      "cell_type": "code",
      "metadata": {
        "trusted": true,
        "id": "0TLuMwypL-CO",
        "colab_type": "code",
        "colab": {}
      },
      "source": [
        "check_estimator(LR)"
      ],
      "execution_count": null,
      "outputs": []
    },
    {
      "cell_type": "code",
      "metadata": {
        "trusted": true,
        "id": "TUMa7E25L-CQ",
        "colab_type": "code",
        "colab": {}
      },
      "source": [
        "# Any parameters to get during the creation of model, We can add it in the __init__() method"
      ],
      "execution_count": null,
      "outputs": []
    }
  ]
}