{
  "nbformat": 4,
  "nbformat_minor": 0,
  "metadata": {
    "colab": {
      "name": "Time Series Forecasting - Prophet.ipynb",
      "provenance": [],
      "collapsed_sections": [],
      "authorship_tag": "ABX9TyMv/53yMiYRojcXgLa1xzyy",
      "include_colab_link": true
    },
    "kernelspec": {
      "name": "python3",
      "display_name": "Python 3"
    }
  },
  "cells": [
    {
      "cell_type": "markdown",
      "metadata": {
        "id": "view-in-github",
        "colab_type": "text"
      },
      "source": [
        "<a href=\"https://colab.research.google.com/github/manifoldailearning/Youtube/blob/master/Time_Series_Forecasting_Prophet.ipynb\" target=\"_parent\"><img src=\"https://colab.research.google.com/assets/colab-badge.svg\" alt=\"Open In Colab\"/></a>"
      ]
    },
    {
      "cell_type": "markdown",
      "metadata": {
        "id": "QWxDF0975dJk",
        "colab_type": "text"
      },
      "source": [
        "Watch on Youtube : https://youtu.be/DpOwWuRoWro"
      ]
    },
    {
      "cell_type": "markdown",
      "metadata": {
        "id": "B1SnHFFtp4p-",
        "colab_type": "text"
      },
      "source": [
        "# Time Series Forecasting"
      ]
    },
    {
      "cell_type": "code",
      "metadata": {
        "id": "5wMkDMWpsCoS",
        "colab_type": "code",
        "colab": {}
      },
      "source": [
        "from IPython.core.interactiveshell import InteractiveShell\n",
        "InteractiveShell.ast_node_interactivity = \"all\""
      ],
      "execution_count": null,
      "outputs": []
    },
    {
      "cell_type": "code",
      "metadata": {
        "id": "qGoisWm73Nar",
        "colab_type": "code",
        "colab": {
          "base_uri": "https://localhost:8080/",
          "height": 336
        },
        "outputId": "ab7e5617-674c-4e67-f857-d71854aec467"
      },
      "source": [
        "!pip install fbprophet"
      ],
      "execution_count": null,
      "outputs": [
        {
          "output_type": "stream",
          "text": [
            "Requirement already satisfied: fbprophet in /usr/local/lib/python3.6/dist-packages (0.6)\n",
            "Requirement already satisfied: Cython>=0.22 in /usr/local/lib/python3.6/dist-packages (from fbprophet) (0.29.21)\n",
            "Requirement already satisfied: cmdstanpy==0.4 in /usr/local/lib/python3.6/dist-packages (from fbprophet) (0.4.0)\n",
            "Requirement already satisfied: pystan>=2.14 in /usr/local/lib/python3.6/dist-packages (from fbprophet) (2.19.1.1)\n",
            "Requirement already satisfied: numpy>=1.10.0 in /usr/local/lib/python3.6/dist-packages (from fbprophet) (1.18.5)\n",
            "Requirement already satisfied: pandas>=0.23.4 in /usr/local/lib/python3.6/dist-packages (from fbprophet) (1.0.5)\n",
            "Requirement already satisfied: matplotlib>=2.0.0 in /usr/local/lib/python3.6/dist-packages (from fbprophet) (3.2.2)\n",
            "Requirement already satisfied: LunarCalendar>=0.0.9 in /usr/local/lib/python3.6/dist-packages (from fbprophet) (0.0.9)\n",
            "Requirement already satisfied: convertdate>=2.1.2 in /usr/local/lib/python3.6/dist-packages (from fbprophet) (2.2.1)\n",
            "Requirement already satisfied: holidays>=0.9.5 in /usr/local/lib/python3.6/dist-packages (from fbprophet) (0.9.12)\n",
            "Requirement already satisfied: setuptools-git>=1.2 in /usr/local/lib/python3.6/dist-packages (from fbprophet) (1.2)\n",
            "Requirement already satisfied: python-dateutil>=2.8.0 in /usr/local/lib/python3.6/dist-packages (from fbprophet) (2.8.1)\n",
            "Requirement already satisfied: pytz>=2017.2 in /usr/local/lib/python3.6/dist-packages (from pandas>=0.23.4->fbprophet) (2018.9)\n",
            "Requirement already satisfied: cycler>=0.10 in /usr/local/lib/python3.6/dist-packages (from matplotlib>=2.0.0->fbprophet) (0.10.0)\n",
            "Requirement already satisfied: kiwisolver>=1.0.1 in /usr/local/lib/python3.6/dist-packages (from matplotlib>=2.0.0->fbprophet) (1.2.0)\n",
            "Requirement already satisfied: pyparsing!=2.0.4,!=2.1.2,!=2.1.6,>=2.0.1 in /usr/local/lib/python3.6/dist-packages (from matplotlib>=2.0.0->fbprophet) (2.4.7)\n",
            "Requirement already satisfied: ephem>=3.7.5.3 in /usr/local/lib/python3.6/dist-packages (from LunarCalendar>=0.0.9->fbprophet) (3.7.7.1)\n",
            "Requirement already satisfied: pymeeus<=1,>=0.3.6 in /usr/local/lib/python3.6/dist-packages (from convertdate>=2.1.2->fbprophet) (0.3.7)\n",
            "Requirement already satisfied: six in /usr/local/lib/python3.6/dist-packages (from holidays>=0.9.5->fbprophet) (1.15.0)\n"
          ],
          "name": "stdout"
        }
      ]
    },
    {
      "cell_type": "code",
      "metadata": {
        "id": "zmrE4ETv3QXs",
        "colab_type": "code",
        "colab": {}
      },
      "source": [
        "import fbprophet"
      ],
      "execution_count": null,
      "outputs": []
    },
    {
      "cell_type": "code",
      "metadata": {
        "id": "lsGnFiFh3St7",
        "colab_type": "code",
        "colab": {
          "base_uri": "https://localhost:8080/",
          "height": 35
        },
        "outputId": "2ef07d87-4df1-4f18-9b09-853f150edad1"
      },
      "source": [
        "fbprophet.__version__"
      ],
      "execution_count": null,
      "outputs": [
        {
          "output_type": "execute_result",
          "data": {
            "application/vnd.google.colaboratory.intrinsic+json": {
              "type": "string"
            },
            "text/plain": [
              "'0.6'"
            ]
          },
          "metadata": {
            "tags": []
          },
          "execution_count": 39
        }
      ]
    },
    {
      "cell_type": "code",
      "metadata": {
        "id": "qmV-nDS63Wd6",
        "colab_type": "code",
        "colab": {}
      },
      "source": [
        "import pandas as pd"
      ],
      "execution_count": null,
      "outputs": []
    },
    {
      "cell_type": "code",
      "metadata": {
        "id": "2WDQzhPK4Et8",
        "colab_type": "code",
        "colab": {
          "base_uri": "https://localhost:8080/",
          "height": 195
        },
        "outputId": "837ef7c0-28fd-4020-91f0-306fd634c2bd"
      },
      "source": [
        "df = pd.read_csv(\"https://raw.githubusercontent.com/manifoldailearning/Youtube/master/BikeSales.csv\")\n",
        "df.head()"
      ],
      "execution_count": null,
      "outputs": [
        {
          "output_type": "execute_result",
          "data": {
            "text/html": [
              "<div>\n",
              "<style scoped>\n",
              "    .dataframe tbody tr th:only-of-type {\n",
              "        vertical-align: middle;\n",
              "    }\n",
              "\n",
              "    .dataframe tbody tr th {\n",
              "        vertical-align: top;\n",
              "    }\n",
              "\n",
              "    .dataframe thead th {\n",
              "        text-align: right;\n",
              "    }\n",
              "</style>\n",
              "<table border=\"1\" class=\"dataframe\">\n",
              "  <thead>\n",
              "    <tr style=\"text-align: right;\">\n",
              "      <th></th>\n",
              "      <th>Month</th>\n",
              "      <th>Sales</th>\n",
              "    </tr>\n",
              "  </thead>\n",
              "  <tbody>\n",
              "    <tr>\n",
              "      <th>0</th>\n",
              "      <td>1949-01</td>\n",
              "      <td>112</td>\n",
              "    </tr>\n",
              "    <tr>\n",
              "      <th>1</th>\n",
              "      <td>1949-02</td>\n",
              "      <td>118</td>\n",
              "    </tr>\n",
              "    <tr>\n",
              "      <th>2</th>\n",
              "      <td>1949-03</td>\n",
              "      <td>132</td>\n",
              "    </tr>\n",
              "    <tr>\n",
              "      <th>3</th>\n",
              "      <td>1949-04</td>\n",
              "      <td>129</td>\n",
              "    </tr>\n",
              "    <tr>\n",
              "      <th>4</th>\n",
              "      <td>1949-05</td>\n",
              "      <td>121</td>\n",
              "    </tr>\n",
              "  </tbody>\n",
              "</table>\n",
              "</div>"
            ],
            "text/plain": [
              "     Month  Sales\n",
              "0  1949-01    112\n",
              "1  1949-02    118\n",
              "2  1949-03    132\n",
              "3  1949-04    129\n",
              "4  1949-05    121"
            ]
          },
          "metadata": {
            "tags": []
          },
          "execution_count": 41
        }
      ]
    },
    {
      "cell_type": "code",
      "metadata": {
        "id": "kNo8FN_F4Hra",
        "colab_type": "code",
        "colab": {
          "base_uri": "https://localhost:8080/",
          "height": 282
        },
        "outputId": "e0fb9cee-d9c6-4e21-8d0a-37b3ad9ea9d9"
      },
      "source": [
        "import matplotlib.pyplot as plt\n",
        "df.plot()\n",
        "plt.show()"
      ],
      "execution_count": null,
      "outputs": [
        {
          "output_type": "execute_result",
          "data": {
            "text/plain": [
              "<matplotlib.axes._subplots.AxesSubplot at 0x7f7222818fd0>"
            ]
          },
          "metadata": {
            "tags": []
          },
          "execution_count": 14
        },
        {
          "output_type": "display_data",
          "data": {
            "image/png": "[encoded data removed]",
            "text/plain": [
              "<Figure size 432x288 with 1 Axes>"
            ]
          },
          "metadata": {
            "tags": [],
            "needs_background": "light"
          }
        }
      ]
    },
    {
      "cell_type": "markdown",
      "metadata": {
        "id": "PP7dHXS2p-WB",
        "colab_type": "text"
      },
      "source": [
        "Column Names should be : ds & y\n",
        "\n",
        "column : ds --> data type : Date Time"
      ]
    },
    {
      "cell_type": "code",
      "metadata": {
        "id": "Vvmd468N4Qdz",
        "colab_type": "code",
        "colab": {}
      },
      "source": [
        "df.columns = [\"ds\",\"y\"]"
      ],
      "execution_count": null,
      "outputs": []
    },
    {
      "cell_type": "code",
      "metadata": {
        "id": "ZsqodXW_4djU",
        "colab_type": "code",
        "colab": {
          "base_uri": "https://localhost:8080/",
          "height": 168
        },
        "outputId": "b5442015-68f5-4a9a-ec25-f420fc6b0585"
      },
      "source": [
        "df.info()"
      ],
      "execution_count": null,
      "outputs": [
        {
          "output_type": "stream",
          "text": [
            "<class 'pandas.core.frame.DataFrame'>\n",
            "RangeIndex: 144 entries, 0 to 143\n",
            "Data columns (total 2 columns):\n",
            " #   Column  Non-Null Count  Dtype \n",
            "---  ------  --------------  ----- \n",
            " 0   ds      144 non-null    object\n",
            " 1   y       144 non-null    int64 \n",
            "dtypes: int64(1), object(1)\n",
            "memory usage: 2.4+ KB\n"
          ],
          "name": "stdout"
        }
      ]
    },
    {
      "cell_type": "code",
      "metadata": {
        "id": "L6CzUDIK4gSy",
        "colab_type": "code",
        "colab": {
          "base_uri": "https://localhost:8080/",
          "height": 168
        },
        "outputId": "21c727c0-2a28-4aea-da93-f936d9c215c7"
      },
      "source": [
        "df[\"ds\"] = pd.to_datetime(df[\"ds\"])\n",
        "df.info()"
      ],
      "execution_count": null,
      "outputs": [
        {
          "output_type": "stream",
          "text": [
            "<class 'pandas.core.frame.DataFrame'>\n",
            "RangeIndex: 144 entries, 0 to 143\n",
            "Data columns (total 2 columns):\n",
            " #   Column  Non-Null Count  Dtype         \n",
            "---  ------  --------------  -----         \n",
            " 0   ds      144 non-null    datetime64[ns]\n",
            " 1   y       144 non-null    int64         \n",
            "dtypes: datetime64[ns](1), int64(1)\n",
            "memory usage: 2.4 KB\n"
          ],
          "name": "stdout"
        }
      ]
    },
    {
      "cell_type": "code",
      "metadata": {
        "id": "8oLlqk8P4q8x",
        "colab_type": "code",
        "colab": {
          "base_uri": "https://localhost:8080/",
          "height": 195
        },
        "outputId": "6dcea25a-b264-4afd-f958-d2ba85242d1b"
      },
      "source": [
        "df.head()"
      ],
      "execution_count": null,
      "outputs": [
        {
          "output_type": "execute_result",
          "data": {
            "text/html": [
              "<div>\n",
              "<style scoped>\n",
              "    .dataframe tbody tr th:only-of-type {\n",
              "        vertical-align: middle;\n",
              "    }\n",
              "\n",
              "    .dataframe tbody tr th {\n",
              "        vertical-align: top;\n",
              "    }\n",
              "\n",
              "    .dataframe thead th {\n",
              "        text-align: right;\n",
              "    }\n",
              "</style>\n",
              "<table border=\"1\" class=\"dataframe\">\n",
              "  <thead>\n",
              "    <tr style=\"text-align: right;\">\n",
              "      <th></th>\n",
              "      <th>ds</th>\n",
              "      <th>y</th>\n",
              "    </tr>\n",
              "  </thead>\n",
              "  <tbody>\n",
              "    <tr>\n",
              "      <th>0</th>\n",
              "      <td>1949-01-01</td>\n",
              "      <td>112</td>\n",
              "    </tr>\n",
              "    <tr>\n",
              "      <th>1</th>\n",
              "      <td>1949-02-01</td>\n",
              "      <td>118</td>\n",
              "    </tr>\n",
              "    <tr>\n",
              "      <th>2</th>\n",
              "      <td>1949-03-01</td>\n",
              "      <td>132</td>\n",
              "    </tr>\n",
              "    <tr>\n",
              "      <th>3</th>\n",
              "      <td>1949-04-01</td>\n",
              "      <td>129</td>\n",
              "    </tr>\n",
              "    <tr>\n",
              "      <th>4</th>\n",
              "      <td>1949-05-01</td>\n",
              "      <td>121</td>\n",
              "    </tr>\n",
              "  </tbody>\n",
              "</table>\n",
              "</div>"
            ],
            "text/plain": [
              "          ds    y\n",
              "0 1949-01-01  112\n",
              "1 1949-02-01  118\n",
              "2 1949-03-01  132\n",
              "3 1949-04-01  129\n",
              "4 1949-05-01  121"
            ]
          },
          "metadata": {
            "tags": []
          },
          "execution_count": 18
        }
      ]
    },
    {
      "cell_type": "code",
      "metadata": {
        "id": "9_dXQJa_4szc",
        "colab_type": "code",
        "colab": {}
      },
      "source": [
        "from fbprophet import Prophet"
      ],
      "execution_count": null,
      "outputs": []
    },
    {
      "cell_type": "code",
      "metadata": {
        "id": "zFg_MRJh47sK",
        "colab_type": "code",
        "colab": {}
      },
      "source": [
        "model = Prophet()"
      ],
      "execution_count": null,
      "outputs": []
    },
    {
      "cell_type": "code",
      "metadata": {
        "id": "AAtGVbvt4_SB",
        "colab_type": "code",
        "colab": {
          "base_uri": "https://localhost:8080/",
          "height": 84
        },
        "outputId": "c685ff96-875c-435f-fa14-ea90d8dd636c"
      },
      "source": [
        "model.fit(df)"
      ],
      "execution_count": null,
      "outputs": [
        {
          "output_type": "stream",
          "text": [
            "INFO:numexpr.utils:NumExpr defaulting to 2 threads.\n",
            "INFO:fbprophet:Disabling weekly seasonality. Run prophet with weekly_seasonality=True to override this.\n",
            "INFO:fbprophet:Disabling daily seasonality. Run prophet with daily_seasonality=True to override this.\n"
          ],
          "name": "stderr"
        },
        {
          "output_type": "execute_result",
          "data": {
            "text/plain": [
              "<fbprophet.forecaster.Prophet at 0x7f7222771a58>"
            ]
          },
          "metadata": {
            "tags": []
          },
          "execution_count": 21
        }
      ]
    },
    {
      "cell_type": "code",
      "metadata": {
        "id": "K1vdXZCl5AJp",
        "colab_type": "code",
        "colab": {}
      },
      "source": [
        "future = list()\n",
        "for i in range(1, 13):\n",
        "\tdate = '1960-%02d' % i\n",
        "\tfuture.append([date])\n",
        "future = pd.DataFrame(future)\n",
        "future.columns = ['ds']\n",
        "future['ds']= pd.to_datetime(future['ds'])"
      ],
      "execution_count": null,
      "outputs": []
    },
    {
      "cell_type": "code",
      "metadata": {
        "id": "EuXUyUyG3ji8",
        "colab_type": "code",
        "colab": {
          "base_uri": "https://localhost:8080/",
          "height": 402
        },
        "outputId": "ba2802ca-4493-416e-a904-391d97673ced"
      },
      "source": [
        "future"
      ],
      "execution_count": null,
      "outputs": [
        {
          "output_type": "execute_result",
          "data": {
            "text/html": [
              "<div>\n",
              "<style scoped>\n",
              "    .dataframe tbody tr th:only-of-type {\n",
              "        vertical-align: middle;\n",
              "    }\n",
              "\n",
              "    .dataframe tbody tr th {\n",
              "        vertical-align: top;\n",
              "    }\n",
              "\n",
              "    .dataframe thead th {\n",
              "        text-align: right;\n",
              "    }\n",
              "</style>\n",
              "<table border=\"1\" class=\"dataframe\">\n",
              "  <thead>\n",
              "    <tr style=\"text-align: right;\">\n",
              "      <th></th>\n",
              "      <th>ds</th>\n",
              "    </tr>\n",
              "  </thead>\n",
              "  <tbody>\n",
              "    <tr>\n",
              "      <th>0</th>\n",
              "      <td>1960-01-01</td>\n",
              "    </tr>\n",
              "    <tr>\n",
              "      <th>1</th>\n",
              "      <td>1960-02-01</td>\n",
              "    </tr>\n",
              "    <tr>\n",
              "      <th>2</th>\n",
              "      <td>1960-03-01</td>\n",
              "    </tr>\n",
              "    <tr>\n",
              "      <th>3</th>\n",
              "      <td>1960-04-01</td>\n",
              "    </tr>\n",
              "    <tr>\n",
              "      <th>4</th>\n",
              "      <td>1960-05-01</td>\n",
              "    </tr>\n",
              "    <tr>\n",
              "      <th>5</th>\n",
              "      <td>1960-06-01</td>\n",
              "    </tr>\n",
              "    <tr>\n",
              "      <th>6</th>\n",
              "      <td>1960-07-01</td>\n",
              "    </tr>\n",
              "    <tr>\n",
              "      <th>7</th>\n",
              "      <td>1960-08-01</td>\n",
              "    </tr>\n",
              "    <tr>\n",
              "      <th>8</th>\n",
              "      <td>1960-09-01</td>\n",
              "    </tr>\n",
              "    <tr>\n",
              "      <th>9</th>\n",
              "      <td>1960-10-01</td>\n",
              "    </tr>\n",
              "    <tr>\n",
              "      <th>10</th>\n",
              "      <td>1960-11-01</td>\n",
              "    </tr>\n",
              "    <tr>\n",
              "      <th>11</th>\n",
              "      <td>1960-12-01</td>\n",
              "    </tr>\n",
              "  </tbody>\n",
              "</table>\n",
              "</div>"
            ],
            "text/plain": [
              "           ds\n",
              "0  1960-01-01\n",
              "1  1960-02-01\n",
              "2  1960-03-01\n",
              "3  1960-04-01\n",
              "4  1960-05-01\n",
              "5  1960-06-01\n",
              "6  1960-07-01\n",
              "7  1960-08-01\n",
              "8  1960-09-01\n",
              "9  1960-10-01\n",
              "10 1960-11-01\n",
              "11 1960-12-01"
            ]
          },
          "metadata": {
            "tags": []
          },
          "execution_count": 23
        }
      ]
    },
    {
      "cell_type": "code",
      "metadata": {
        "id": "bgW8PbQu5aZj",
        "colab_type": "code",
        "colab": {
          "base_uri": "https://localhost:8080/",
          "height": 1000
        },
        "outputId": "e538a36a-2e7e-453e-981b-e9d86fd48cb4"
      },
      "source": [
        "forecast = model.predict(future)\n",
        "forecast\n",
        "forecast[[\"ds\",\"yhat\",\"yhat_lower\",\"yhat_upper\"]]"
      ],
      "execution_count": null,
      "outputs": [
        {
          "output_type": "execute_result",
          "data": {
            "text/html": [
              "<div>\n",
              "<style scoped>\n",
              "    .dataframe tbody tr th:only-of-type {\n",
              "        vertical-align: middle;\n",
              "    }\n",
              "\n",
              "    .dataframe tbody tr th {\n",
              "        vertical-align: top;\n",
              "    }\n",
              "\n",
              "    .dataframe thead th {\n",
              "        text-align: right;\n",
              "    }\n",
              "</style>\n",
              "<table border=\"1\" class=\"dataframe\">\n",
              "  <thead>\n",
              "    <tr style=\"text-align: right;\">\n",
              "      <th></th>\n",
              "      <th>ds</th>\n",
              "      <th>trend</th>\n",
              "      <th>yhat_lower</th>\n",
              "      <th>yhat_upper</th>\n",
              "      <th>trend_lower</th>\n",
              "      <th>trend_upper</th>\n",
              "      <th>additive_terms</th>\n",
              "      <th>additive_terms_lower</th>\n",
              "      <th>additive_terms_upper</th>\n",
              "      <th>yearly</th>\n",
              "      <th>yearly_lower</th>\n",
              "      <th>yearly_upper</th>\n",
              "      <th>multiplicative_terms</th>\n",
              "      <th>multiplicative_terms_lower</th>\n",
              "      <th>multiplicative_terms_upper</th>\n",
              "      <th>yhat</th>\n",
              "    </tr>\n",
              "  </thead>\n",
              "  <tbody>\n",
              "    <tr>\n",
              "      <th>0</th>\n",
              "      <td>1960-01-01</td>\n",
              "      <td>450.783289</td>\n",
              "      <td>397.744845</td>\n",
              "      <td>453.420345</td>\n",
              "      <td>450.783289</td>\n",
              "      <td>450.783289</td>\n",
              "      <td>-24.555949</td>\n",
              "      <td>-24.555949</td>\n",
              "      <td>-24.555949</td>\n",
              "      <td>-24.555949</td>\n",
              "      <td>-24.555949</td>\n",
              "      <td>-24.555949</td>\n",
              "      <td>0.0</td>\n",
              "      <td>0.0</td>\n",
              "      <td>0.0</td>\n",
              "      <td>426.227340</td>\n",
              "    </tr>\n",
              "    <tr>\n",
              "      <th>1</th>\n",
              "      <td>1960-02-01</td>\n",
              "      <td>453.905909</td>\n",
              "      <td>388.551878</td>\n",
              "      <td>447.346137</td>\n",
              "      <td>453.905909</td>\n",
              "      <td>453.905909</td>\n",
              "      <td>-34.666964</td>\n",
              "      <td>-34.666964</td>\n",
              "      <td>-34.666964</td>\n",
              "      <td>-34.666964</td>\n",
              "      <td>-34.666964</td>\n",
              "      <td>-34.666964</td>\n",
              "      <td>0.0</td>\n",
              "      <td>0.0</td>\n",
              "      <td>0.0</td>\n",
              "      <td>419.238944</td>\n",
              "    </tr>\n",
              "    <tr>\n",
              "      <th>2</th>\n",
              "      <td>1960-03-01</td>\n",
              "      <td>456.827069</td>\n",
              "      <td>428.206342</td>\n",
              "      <td>483.531132</td>\n",
              "      <td>456.827069</td>\n",
              "      <td>456.827069</td>\n",
              "      <td>-1.947180</td>\n",
              "      <td>-1.947180</td>\n",
              "      <td>-1.947180</td>\n",
              "      <td>-1.947180</td>\n",
              "      <td>-1.947180</td>\n",
              "      <td>-1.947180</td>\n",
              "      <td>0.0</td>\n",
              "      <td>0.0</td>\n",
              "      <td>0.0</td>\n",
              "      <td>454.879889</td>\n",
              "    </tr>\n",
              "    <tr>\n",
              "      <th>3</th>\n",
              "      <td>1960-04-01</td>\n",
              "      <td>459.949689</td>\n",
              "      <td>426.870420</td>\n",
              "      <td>485.527551</td>\n",
              "      <td>459.949689</td>\n",
              "      <td>459.949689</td>\n",
              "      <td>-3.997130</td>\n",
              "      <td>-3.997130</td>\n",
              "      <td>-3.997130</td>\n",
              "      <td>-3.997130</td>\n",
              "      <td>-3.997130</td>\n",
              "      <td>-3.997130</td>\n",
              "      <td>0.0</td>\n",
              "      <td>0.0</td>\n",
              "      <td>0.0</td>\n",
              "      <td>455.952559</td>\n",
              "    </tr>\n",
              "    <tr>\n",
              "      <th>4</th>\n",
              "      <td>1960-05-01</td>\n",
              "      <td>462.971580</td>\n",
              "      <td>428.958911</td>\n",
              "      <td>485.048512</td>\n",
              "      <td>462.971580</td>\n",
              "      <td>462.971580</td>\n",
              "      <td>-4.409083</td>\n",
              "      <td>-4.409083</td>\n",
              "      <td>-4.409083</td>\n",
              "      <td>-4.409083</td>\n",
              "      <td>-4.409083</td>\n",
              "      <td>-4.409083</td>\n",
              "      <td>0.0</td>\n",
              "      <td>0.0</td>\n",
              "      <td>0.0</td>\n",
              "      <td>458.562496</td>\n",
              "    </tr>\n",
              "    <tr>\n",
              "      <th>5</th>\n",
              "      <td>1960-06-01</td>\n",
              "      <td>466.094200</td>\n",
              "      <td>472.088947</td>\n",
              "      <td>529.760710</td>\n",
              "      <td>466.094200</td>\n",
              "      <td>466.094200</td>\n",
              "      <td>35.095889</td>\n",
              "      <td>35.095889</td>\n",
              "      <td>35.095889</td>\n",
              "      <td>35.095889</td>\n",
              "      <td>35.095889</td>\n",
              "      <td>35.095889</td>\n",
              "      <td>0.0</td>\n",
              "      <td>0.0</td>\n",
              "      <td>0.0</td>\n",
              "      <td>501.190089</td>\n",
              "    </tr>\n",
              "    <tr>\n",
              "      <th>6</th>\n",
              "      <td>1960-07-01</td>\n",
              "      <td>469.116090</td>\n",
              "      <td>509.135019</td>\n",
              "      <td>568.729335</td>\n",
              "      <td>469.116090</td>\n",
              "      <td>469.116090</td>\n",
              "      <td>70.625621</td>\n",
              "      <td>70.625621</td>\n",
              "      <td>70.625621</td>\n",
              "      <td>70.625621</td>\n",
              "      <td>70.625621</td>\n",
              "      <td>70.625621</td>\n",
              "      <td>0.0</td>\n",
              "      <td>0.0</td>\n",
              "      <td>0.0</td>\n",
              "      <td>539.741712</td>\n",
              "    </tr>\n",
              "    <tr>\n",
              "      <th>7</th>\n",
              "      <td>1960-08-01</td>\n",
              "      <td>472.238710</td>\n",
              "      <td>512.793624</td>\n",
              "      <td>568.063679</td>\n",
              "      <td>472.238710</td>\n",
              "      <td>472.238710</td>\n",
              "      <td>68.381499</td>\n",
              "      <td>68.381499</td>\n",
              "      <td>68.381499</td>\n",
              "      <td>68.381499</td>\n",
              "      <td>68.381499</td>\n",
              "      <td>68.381499</td>\n",
              "      <td>0.0</td>\n",
              "      <td>0.0</td>\n",
              "      <td>0.0</td>\n",
              "      <td>540.620209</td>\n",
              "    </tr>\n",
              "    <tr>\n",
              "      <th>8</th>\n",
              "      <td>1960-09-01</td>\n",
              "      <td>475.361330</td>\n",
              "      <td>464.093171</td>\n",
              "      <td>522.346324</td>\n",
              "      <td>475.361330</td>\n",
              "      <td>475.361330</td>\n",
              "      <td>16.107699</td>\n",
              "      <td>16.107699</td>\n",
              "      <td>16.107699</td>\n",
              "      <td>16.107699</td>\n",
              "      <td>16.107699</td>\n",
              "      <td>16.107699</td>\n",
              "      <td>0.0</td>\n",
              "      <td>0.0</td>\n",
              "      <td>0.0</td>\n",
              "      <td>491.469029</td>\n",
              "    </tr>\n",
              "    <tr>\n",
              "      <th>9</th>\n",
              "      <td>1960-10-01</td>\n",
              "      <td>478.383221</td>\n",
              "      <td>429.209409</td>\n",
              "      <td>486.122083</td>\n",
              "      <td>478.383221</td>\n",
              "      <td>478.383221</td>\n",
              "      <td>-21.559742</td>\n",
              "      <td>-21.559742</td>\n",
              "      <td>-21.559742</td>\n",
              "      <td>-21.559742</td>\n",
              "      <td>-21.559742</td>\n",
              "      <td>-21.559742</td>\n",
              "      <td>0.0</td>\n",
              "      <td>0.0</td>\n",
              "      <td>0.0</td>\n",
              "      <td>456.823479</td>\n",
              "    </tr>\n",
              "    <tr>\n",
              "      <th>10</th>\n",
              "      <td>1960-11-01</td>\n",
              "      <td>481.505841</td>\n",
              "      <td>393.504441</td>\n",
              "      <td>451.010085</td>\n",
              "      <td>481.505841</td>\n",
              "      <td>481.505841</td>\n",
              "      <td>-59.503975</td>\n",
              "      <td>-59.503975</td>\n",
              "      <td>-59.503975</td>\n",
              "      <td>-59.503975</td>\n",
              "      <td>-59.503975</td>\n",
              "      <td>-59.503975</td>\n",
              "      <td>0.0</td>\n",
              "      <td>0.0</td>\n",
              "      <td>0.0</td>\n",
              "      <td>422.001866</td>\n",
              "    </tr>\n",
              "    <tr>\n",
              "      <th>11</th>\n",
              "      <td>1960-12-01</td>\n",
              "      <td>484.527731</td>\n",
              "      <td>421.762732</td>\n",
              "      <td>477.534162</td>\n",
              "      <td>484.527731</td>\n",
              "      <td>484.527731</td>\n",
              "      <td>-33.362872</td>\n",
              "      <td>-33.362872</td>\n",
              "      <td>-33.362872</td>\n",
              "      <td>-33.362872</td>\n",
              "      <td>-33.362872</td>\n",
              "      <td>-33.362872</td>\n",
              "      <td>0.0</td>\n",
              "      <td>0.0</td>\n",
              "      <td>0.0</td>\n",
              "      <td>451.164860</td>\n",
              "    </tr>\n",
              "  </tbody>\n",
              "</table>\n",
              "</div>"
            ],
            "text/plain": [
              "           ds       trend  ...  multiplicative_terms_upper        yhat\n",
              "0  1960-01-01  450.783289  ...                         0.0  426.227340\n",
              "1  1960-02-01  453.905909  ...                         0.0  419.238944\n",
              "2  1960-03-01  456.827069  ...                         0.0  454.879889\n",
              "3  1960-04-01  459.949689  ...                         0.0  455.952559\n",
              "4  1960-05-01  462.971580  ...                         0.0  458.562496\n",
              "5  1960-06-01  466.094200  ...                         0.0  501.190089\n",
              "6  1960-07-01  469.116090  ...                         0.0  539.741712\n",
              "7  1960-08-01  472.238710  ...                         0.0  540.620209\n",
              "8  1960-09-01  475.361330  ...                         0.0  491.469029\n",
              "9  1960-10-01  478.383221  ...                         0.0  456.823479\n",
              "10 1960-11-01  481.505841  ...                         0.0  422.001866\n",
              "11 1960-12-01  484.527731  ...                         0.0  451.164860\n",
              "\n",
              "[12 rows x 16 columns]"
            ]
          },
          "metadata": {
            "tags": []
          },
          "execution_count": 24
        },
        {
          "output_type": "execute_result",
          "data": {
            "text/html": [
              "<div>\n",
              "<style scoped>\n",
              "    .dataframe tbody tr th:only-of-type {\n",
              "        vertical-align: middle;\n",
              "    }\n",
              "\n",
              "    .dataframe tbody tr th {\n",
              "        vertical-align: top;\n",
              "    }\n",
              "\n",
              "    .dataframe thead th {\n",
              "        text-align: right;\n",
              "    }\n",
              "</style>\n",
              "<table border=\"1\" class=\"dataframe\">\n",
              "  <thead>\n",
              "    <tr style=\"text-align: right;\">\n",
              "      <th></th>\n",
              "      <th>ds</th>\n",
              "      <th>yhat</th>\n",
              "      <th>yhat_lower</th>\n",
              "      <th>yhat_upper</th>\n",
              "    </tr>\n",
              "  </thead>\n",
              "  <tbody>\n",
              "    <tr>\n",
              "      <th>0</th>\n",
              "      <td>1960-01-01</td>\n",
              "      <td>426.227340</td>\n",
              "      <td>397.744845</td>\n",
              "      <td>453.420345</td>\n",
              "    </tr>\n",
              "    <tr>\n",
              "      <th>1</th>\n",
              "      <td>1960-02-01</td>\n",
              "      <td>419.238944</td>\n",
              "      <td>388.551878</td>\n",
              "      <td>447.346137</td>\n",
              "    </tr>\n",
              "    <tr>\n",
              "      <th>2</th>\n",
              "      <td>1960-03-01</td>\n",
              "      <td>454.879889</td>\n",
              "      <td>428.206342</td>\n",
              "      <td>483.531132</td>\n",
              "    </tr>\n",
              "    <tr>\n",
              "      <th>3</th>\n",
              "      <td>1960-04-01</td>\n",
              "      <td>455.952559</td>\n",
              "      <td>426.870420</td>\n",
              "      <td>485.527551</td>\n",
              "    </tr>\n",
              "    <tr>\n",
              "      <th>4</th>\n",
              "      <td>1960-05-01</td>\n",
              "      <td>458.562496</td>\n",
              "      <td>428.958911</td>\n",
              "      <td>485.048512</td>\n",
              "    </tr>\n",
              "    <tr>\n",
              "      <th>5</th>\n",
              "      <td>1960-06-01</td>\n",
              "      <td>501.190089</td>\n",
              "      <td>472.088947</td>\n",
              "      <td>529.760710</td>\n",
              "    </tr>\n",
              "    <tr>\n",
              "      <th>6</th>\n",
              "      <td>1960-07-01</td>\n",
              "      <td>539.741712</td>\n",
              "      <td>509.135019</td>\n",
              "      <td>568.729335</td>\n",
              "    </tr>\n",
              "    <tr>\n",
              "      <th>7</th>\n",
              "      <td>1960-08-01</td>\n",
              "      <td>540.620209</td>\n",
              "      <td>512.793624</td>\n",
              "      <td>568.063679</td>\n",
              "    </tr>\n",
              "    <tr>\n",
              "      <th>8</th>\n",
              "      <td>1960-09-01</td>\n",
              "      <td>491.469029</td>\n",
              "      <td>464.093171</td>\n",
              "      <td>522.346324</td>\n",
              "    </tr>\n",
              "    <tr>\n",
              "      <th>9</th>\n",
              "      <td>1960-10-01</td>\n",
              "      <td>456.823479</td>\n",
              "      <td>429.209409</td>\n",
              "      <td>486.122083</td>\n",
              "    </tr>\n",
              "    <tr>\n",
              "      <th>10</th>\n",
              "      <td>1960-11-01</td>\n",
              "      <td>422.001866</td>\n",
              "      <td>393.504441</td>\n",
              "      <td>451.010085</td>\n",
              "    </tr>\n",
              "    <tr>\n",
              "      <th>11</th>\n",
              "      <td>1960-12-01</td>\n",
              "      <td>451.164860</td>\n",
              "      <td>421.762732</td>\n",
              "      <td>477.534162</td>\n",
              "    </tr>\n",
              "  </tbody>\n",
              "</table>\n",
              "</div>"
            ],
            "text/plain": [
              "           ds        yhat  yhat_lower  yhat_upper\n",
              "0  1960-01-01  426.227340  397.744845  453.420345\n",
              "1  1960-02-01  419.238944  388.551878  447.346137\n",
              "2  1960-03-01  454.879889  428.206342  483.531132\n",
              "3  1960-04-01  455.952559  426.870420  485.527551\n",
              "4  1960-05-01  458.562496  428.958911  485.048512\n",
              "5  1960-06-01  501.190089  472.088947  529.760710\n",
              "6  1960-07-01  539.741712  509.135019  568.729335\n",
              "7  1960-08-01  540.620209  512.793624  568.063679\n",
              "8  1960-09-01  491.469029  464.093171  522.346324\n",
              "9  1960-10-01  456.823479  429.209409  486.122083\n",
              "10 1960-11-01  422.001866  393.504441  451.010085\n",
              "11 1960-12-01  451.164860  421.762732  477.534162"
            ]
          },
          "metadata": {
            "tags": []
          },
          "execution_count": 24
        }
      ]
    },
    {
      "cell_type": "code",
      "metadata": {
        "id": "HWmu6A7d5ojD",
        "colab_type": "code",
        "colab": {
          "base_uri": "https://localhost:8080/",
          "height": 865
        },
        "outputId": "37ddfe83-1c09-4295-a935-4c7074263391"
      },
      "source": [
        "model.plot(forecast)\n",
        "plt.show()"
      ],
      "execution_count": null,
      "outputs": [
        {
          "output_type": "execute_result",
          "data": {
            "image/png": "[encoded data removed]",
            "text/plain": [
              "<Figure size 720x432 with 1 Axes>"
            ]
          },
          "metadata": {
            "tags": []
          },
          "execution_count": 25
        },
        {
          "output_type": "display_data",
          "data": {
            "image/png": "[encoded data removed]",
            "text/plain": [
              "<Figure size 720x432 with 1 Axes>"
            ]
          },
          "metadata": {
            "tags": []
          }
        }
      ]
    },
    {
      "cell_type": "code",
      "metadata": {
        "id": "i30kevSh6HzK",
        "colab_type": "code",
        "colab": {}
      },
      "source": [
        "future = list()\n",
        "for i in range(1, 13):\n",
        "\tdate = '1961-%02d' % i\n",
        "\tfuture.append([date])\n",
        "future = pd.DataFrame(future)\n",
        "future.columns = ['ds']\n",
        "future['ds']= pd.to_datetime(future['ds'])"
      ],
      "execution_count": null,
      "outputs": []
    },
    {
      "cell_type": "code",
      "metadata": {
        "id": "_RYH_bl0vi5S",
        "colab_type": "code",
        "colab": {
          "base_uri": "https://localhost:8080/",
          "height": 402
        },
        "outputId": "149eaa00-1021-4dd1-a2b9-427579ecb453"
      },
      "source": [
        "future"
      ],
      "execution_count": null,
      "outputs": [
        {
          "output_type": "execute_result",
          "data": {
            "text/html": [
              "<div>\n",
              "<style scoped>\n",
              "    .dataframe tbody tr th:only-of-type {\n",
              "        vertical-align: middle;\n",
              "    }\n",
              "\n",
              "    .dataframe tbody tr th {\n",
              "        vertical-align: top;\n",
              "    }\n",
              "\n",
              "    .dataframe thead th {\n",
              "        text-align: right;\n",
              "    }\n",
              "</style>\n",
              "<table border=\"1\" class=\"dataframe\">\n",
              "  <thead>\n",
              "    <tr style=\"text-align: right;\">\n",
              "      <th></th>\n",
              "      <th>ds</th>\n",
              "    </tr>\n",
              "  </thead>\n",
              "  <tbody>\n",
              "    <tr>\n",
              "      <th>0</th>\n",
              "      <td>1961-01-01</td>\n",
              "    </tr>\n",
              "    <tr>\n",
              "      <th>1</th>\n",
              "      <td>1961-02-01</td>\n",
              "    </tr>\n",
              "    <tr>\n",
              "      <th>2</th>\n",
              "      <td>1961-03-01</td>\n",
              "    </tr>\n",
              "    <tr>\n",
              "      <th>3</th>\n",
              "      <td>1961-04-01</td>\n",
              "    </tr>\n",
              "    <tr>\n",
              "      <th>4</th>\n",
              "      <td>1961-05-01</td>\n",
              "    </tr>\n",
              "    <tr>\n",
              "      <th>5</th>\n",
              "      <td>1961-06-01</td>\n",
              "    </tr>\n",
              "    <tr>\n",
              "      <th>6</th>\n",
              "      <td>1961-07-01</td>\n",
              "    </tr>\n",
              "    <tr>\n",
              "      <th>7</th>\n",
              "      <td>1961-08-01</td>\n",
              "    </tr>\n",
              "    <tr>\n",
              "      <th>8</th>\n",
              "      <td>1961-09-01</td>\n",
              "    </tr>\n",
              "    <tr>\n",
              "      <th>9</th>\n",
              "      <td>1961-10-01</td>\n",
              "    </tr>\n",
              "    <tr>\n",
              "      <th>10</th>\n",
              "      <td>1961-11-01</td>\n",
              "    </tr>\n",
              "    <tr>\n",
              "      <th>11</th>\n",
              "      <td>1961-12-01</td>\n",
              "    </tr>\n",
              "  </tbody>\n",
              "</table>\n",
              "</div>"
            ],
            "text/plain": [
              "           ds\n",
              "0  1961-01-01\n",
              "1  1961-02-01\n",
              "2  1961-03-01\n",
              "3  1961-04-01\n",
              "4  1961-05-01\n",
              "5  1961-06-01\n",
              "6  1961-07-01\n",
              "7  1961-08-01\n",
              "8  1961-09-01\n",
              "9  1961-10-01\n",
              "10 1961-11-01\n",
              "11 1961-12-01"
            ]
          },
          "metadata": {
            "tags": []
          },
          "execution_count": 27
        }
      ]
    },
    {
      "cell_type": "code",
      "metadata": {
        "id": "qafK_DV56STS",
        "colab_type": "code",
        "colab": {
          "base_uri": "https://localhost:8080/",
          "height": 1000
        },
        "outputId": "765db336-b661-474b-934e-39fa590ea86b"
      },
      "source": [
        "forecast = model.predict(future)\n",
        "forecast\n",
        "forecast[[\"ds\",\"yhat\",\"yhat_lower\",\"yhat_upper\"]]"
      ],
      "execution_count": null,
      "outputs": [
        {
          "output_type": "execute_result",
          "data": {
            "text/html": [
              "<div>\n",
              "<style scoped>\n",
              "    .dataframe tbody tr th:only-of-type {\n",
              "        vertical-align: middle;\n",
              "    }\n",
              "\n",
              "    .dataframe tbody tr th {\n",
              "        vertical-align: top;\n",
              "    }\n",
              "\n",
              "    .dataframe thead th {\n",
              "        text-align: right;\n",
              "    }\n",
              "</style>\n",
              "<table border=\"1\" class=\"dataframe\">\n",
              "  <thead>\n",
              "    <tr style=\"text-align: right;\">\n",
              "      <th></th>\n",
              "      <th>ds</th>\n",
              "      <th>trend</th>\n",
              "      <th>yhat_lower</th>\n",
              "      <th>yhat_upper</th>\n",
              "      <th>trend_lower</th>\n",
              "      <th>trend_upper</th>\n",
              "      <th>additive_terms</th>\n",
              "      <th>additive_terms_lower</th>\n",
              "      <th>additive_terms_upper</th>\n",
              "      <th>yearly</th>\n",
              "      <th>yearly_lower</th>\n",
              "      <th>yearly_upper</th>\n",
              "      <th>multiplicative_terms</th>\n",
              "      <th>multiplicative_terms_lower</th>\n",
              "      <th>multiplicative_terms_upper</th>\n",
              "      <th>yhat</th>\n",
              "    </tr>\n",
              "  </thead>\n",
              "  <tbody>\n",
              "    <tr>\n",
              "      <th>0</th>\n",
              "      <td>1961-01-01</td>\n",
              "      <td>487.650351</td>\n",
              "      <td>435.014087</td>\n",
              "      <td>491.891838</td>\n",
              "      <td>487.650351</td>\n",
              "      <td>487.650351</td>\n",
              "      <td>-21.478579</td>\n",
              "      <td>-21.478579</td>\n",
              "      <td>-21.478579</td>\n",
              "      <td>-21.478579</td>\n",
              "      <td>-21.478579</td>\n",
              "      <td>-21.478579</td>\n",
              "      <td>0.0</td>\n",
              "      <td>0.0</td>\n",
              "      <td>0.0</td>\n",
              "      <td>466.171772</td>\n",
              "    </tr>\n",
              "    <tr>\n",
              "      <th>1</th>\n",
              "      <td>1961-02-01</td>\n",
              "      <td>490.772971</td>\n",
              "      <td>432.394540</td>\n",
              "      <td>489.076243</td>\n",
              "      <td>490.765036</td>\n",
              "      <td>490.790475</td>\n",
              "      <td>-30.124122</td>\n",
              "      <td>-30.124122</td>\n",
              "      <td>-30.124122</td>\n",
              "      <td>-30.124122</td>\n",
              "      <td>-30.124122</td>\n",
              "      <td>-30.124122</td>\n",
              "      <td>0.0</td>\n",
              "      <td>0.0</td>\n",
              "      <td>0.0</td>\n",
              "      <td>460.648849</td>\n",
              "    </tr>\n",
              "    <tr>\n",
              "      <th>2</th>\n",
              "      <td>1961-03-01</td>\n",
              "      <td>493.593402</td>\n",
              "      <td>464.772589</td>\n",
              "      <td>520.353632</td>\n",
              "      <td>493.563776</td>\n",
              "      <td>493.636534</td>\n",
              "      <td>-0.407098</td>\n",
              "      <td>-0.407098</td>\n",
              "      <td>-0.407098</td>\n",
              "      <td>-0.407098</td>\n",
              "      <td>-0.407098</td>\n",
              "      <td>-0.407098</td>\n",
              "      <td>0.0</td>\n",
              "      <td>0.0</td>\n",
              "      <td>0.0</td>\n",
              "      <td>493.186305</td>\n",
              "    </tr>\n",
              "    <tr>\n",
              "      <th>3</th>\n",
              "      <td>1961-04-01</td>\n",
              "      <td>496.716022</td>\n",
              "      <td>462.638012</td>\n",
              "      <td>521.082527</td>\n",
              "      <td>496.649662</td>\n",
              "      <td>496.791455</td>\n",
              "      <td>-4.928447</td>\n",
              "      <td>-4.928447</td>\n",
              "      <td>-4.928447</td>\n",
              "      <td>-4.928447</td>\n",
              "      <td>-4.928447</td>\n",
              "      <td>-4.928447</td>\n",
              "      <td>0.0</td>\n",
              "      <td>0.0</td>\n",
              "      <td>0.0</td>\n",
              "      <td>491.787575</td>\n",
              "    </tr>\n",
              "    <tr>\n",
              "      <th>4</th>\n",
              "      <td>1961-05-01</td>\n",
              "      <td>499.737913</td>\n",
              "      <td>466.822167</td>\n",
              "      <td>524.479415</td>\n",
              "      <td>499.627039</td>\n",
              "      <td>499.846591</td>\n",
              "      <td>-3.631263</td>\n",
              "      <td>-3.631263</td>\n",
              "      <td>-3.631263</td>\n",
              "      <td>-3.631263</td>\n",
              "      <td>-3.631263</td>\n",
              "      <td>-3.631263</td>\n",
              "      <td>0.0</td>\n",
              "      <td>0.0</td>\n",
              "      <td>0.0</td>\n",
              "      <td>496.106650</td>\n",
              "    </tr>\n",
              "    <tr>\n",
              "      <th>5</th>\n",
              "      <td>1961-06-01</td>\n",
              "      <td>502.860533</td>\n",
              "      <td>510.120959</td>\n",
              "      <td>563.898869</td>\n",
              "      <td>502.693458</td>\n",
              "      <td>503.019169</td>\n",
              "      <td>34.290117</td>\n",
              "      <td>34.290117</td>\n",
              "      <td>34.290117</td>\n",
              "      <td>34.290117</td>\n",
              "      <td>34.290117</td>\n",
              "      <td>34.290117</td>\n",
              "      <td>0.0</td>\n",
              "      <td>0.0</td>\n",
              "      <td>0.0</td>\n",
              "      <td>537.150650</td>\n",
              "    </tr>\n",
              "    <tr>\n",
              "      <th>6</th>\n",
              "      <td>1961-07-01</td>\n",
              "      <td>505.882423</td>\n",
              "      <td>546.286920</td>\n",
              "      <td>607.009761</td>\n",
              "      <td>505.660846</td>\n",
              "      <td>506.090633</td>\n",
              "      <td>70.825717</td>\n",
              "      <td>70.825717</td>\n",
              "      <td>70.825717</td>\n",
              "      <td>70.825717</td>\n",
              "      <td>70.825717</td>\n",
              "      <td>70.825717</td>\n",
              "      <td>0.0</td>\n",
              "      <td>0.0</td>\n",
              "      <td>0.0</td>\n",
              "      <td>576.708140</td>\n",
              "    </tr>\n",
              "    <tr>\n",
              "      <th>7</th>\n",
              "      <td>1961-08-01</td>\n",
              "      <td>509.005043</td>\n",
              "      <td>547.829025</td>\n",
              "      <td>606.685708</td>\n",
              "      <td>508.715526</td>\n",
              "      <td>509.274900</td>\n",
              "      <td>68.105794</td>\n",
              "      <td>68.105794</td>\n",
              "      <td>68.105794</td>\n",
              "      <td>68.105794</td>\n",
              "      <td>68.105794</td>\n",
              "      <td>68.105794</td>\n",
              "      <td>0.0</td>\n",
              "      <td>0.0</td>\n",
              "      <td>0.0</td>\n",
              "      <td>577.110838</td>\n",
              "    </tr>\n",
              "    <tr>\n",
              "      <th>8</th>\n",
              "      <td>1961-09-01</td>\n",
              "      <td>512.127663</td>\n",
              "      <td>500.536728</td>\n",
              "      <td>557.271014</td>\n",
              "      <td>511.772119</td>\n",
              "      <td>512.461700</td>\n",
              "      <td>16.430358</td>\n",
              "      <td>16.430358</td>\n",
              "      <td>16.430358</td>\n",
              "      <td>16.430358</td>\n",
              "      <td>16.430358</td>\n",
              "      <td>16.430358</td>\n",
              "      <td>0.0</td>\n",
              "      <td>0.0</td>\n",
              "      <td>0.0</td>\n",
              "      <td>528.558021</td>\n",
              "    </tr>\n",
              "    <tr>\n",
              "      <th>9</th>\n",
              "      <td>1961-10-01</td>\n",
              "      <td>515.149554</td>\n",
              "      <td>465.677863</td>\n",
              "      <td>522.002126</td>\n",
              "      <td>514.723466</td>\n",
              "      <td>515.544573</td>\n",
              "      <td>-21.761569</td>\n",
              "      <td>-21.761569</td>\n",
              "      <td>-21.761569</td>\n",
              "      <td>-21.761569</td>\n",
              "      <td>-21.761569</td>\n",
              "      <td>-21.761569</td>\n",
              "      <td>0.0</td>\n",
              "      <td>0.0</td>\n",
              "      <td>0.0</td>\n",
              "      <td>493.387985</td>\n",
              "    </tr>\n",
              "    <tr>\n",
              "      <th>10</th>\n",
              "      <td>1961-11-01</td>\n",
              "      <td>518.272174</td>\n",
              "      <td>432.385516</td>\n",
              "      <td>488.801440</td>\n",
              "      <td>517.771199</td>\n",
              "      <td>518.733883</td>\n",
              "      <td>-58.720617</td>\n",
              "      <td>-58.720617</td>\n",
              "      <td>-58.720617</td>\n",
              "      <td>-58.720617</td>\n",
              "      <td>-58.720617</td>\n",
              "      <td>-58.720617</td>\n",
              "      <td>0.0</td>\n",
              "      <td>0.0</td>\n",
              "      <td>0.0</td>\n",
              "      <td>459.551557</td>\n",
              "    </tr>\n",
              "    <tr>\n",
              "      <th>11</th>\n",
              "      <td>1961-12-01</td>\n",
              "      <td>521.294064</td>\n",
              "      <td>461.429905</td>\n",
              "      <td>519.641860</td>\n",
              "      <td>520.695605</td>\n",
              "      <td>521.829920</td>\n",
              "      <td>-32.362892</td>\n",
              "      <td>-32.362892</td>\n",
              "      <td>-32.362892</td>\n",
              "      <td>-32.362892</td>\n",
              "      <td>-32.362892</td>\n",
              "      <td>-32.362892</td>\n",
              "      <td>0.0</td>\n",
              "      <td>0.0</td>\n",
              "      <td>0.0</td>\n",
              "      <td>488.931173</td>\n",
              "    </tr>\n",
              "  </tbody>\n",
              "</table>\n",
              "</div>"
            ],
            "text/plain": [
              "           ds       trend  ...  multiplicative_terms_upper        yhat\n",
              "0  1961-01-01  487.650351  ...                         0.0  466.171772\n",
              "1  1961-02-01  490.772971  ...                         0.0  460.648849\n",
              "2  1961-03-01  493.593402  ...                         0.0  493.186305\n",
              "3  1961-04-01  496.716022  ...                         0.0  491.787575\n",
              "4  1961-05-01  499.737913  ...                         0.0  496.106650\n",
              "5  1961-06-01  502.860533  ...                         0.0  537.150650\n",
              "6  1961-07-01  505.882423  ...                         0.0  576.708140\n",
              "7  1961-08-01  509.005043  ...                         0.0  577.110838\n",
              "8  1961-09-01  512.127663  ...                         0.0  528.558021\n",
              "9  1961-10-01  515.149554  ...                         0.0  493.387985\n",
              "10 1961-11-01  518.272174  ...                         0.0  459.551557\n",
              "11 1961-12-01  521.294064  ...                         0.0  488.931173\n",
              "\n",
              "[12 rows x 16 columns]"
            ]
          },
          "metadata": {
            "tags": []
          },
          "execution_count": 28
        },
        {
          "output_type": "execute_result",
          "data": {
            "text/html": [
              "<div>\n",
              "<style scoped>\n",
              "    .dataframe tbody tr th:only-of-type {\n",
              "        vertical-align: middle;\n",
              "    }\n",
              "\n",
              "    .dataframe tbody tr th {\n",
              "        vertical-align: top;\n",
              "    }\n",
              "\n",
              "    .dataframe thead th {\n",
              "        text-align: right;\n",
              "    }\n",
              "</style>\n",
              "<table border=\"1\" class=\"dataframe\">\n",
              "  <thead>\n",
              "    <tr style=\"text-align: right;\">\n",
              "      <th></th>\n",
              "      <th>ds</th>\n",
              "      <th>yhat</th>\n",
              "      <th>yhat_lower</th>\n",
              "      <th>yhat_upper</th>\n",
              "    </tr>\n",
              "  </thead>\n",
              "  <tbody>\n",
              "    <tr>\n",
              "      <th>0</th>\n",
              "      <td>1961-01-01</td>\n",
              "      <td>466.171772</td>\n",
              "      <td>435.014087</td>\n",
              "      <td>491.891838</td>\n",
              "    </tr>\n",
              "    <tr>\n",
              "      <th>1</th>\n",
              "      <td>1961-02-01</td>\n",
              "      <td>460.648849</td>\n",
              "      <td>432.394540</td>\n",
              "      <td>489.076243</td>\n",
              "    </tr>\n",
              "    <tr>\n",
              "      <th>2</th>\n",
              "      <td>1961-03-01</td>\n",
              "      <td>493.186305</td>\n",
              "      <td>464.772589</td>\n",
              "      <td>520.353632</td>\n",
              "    </tr>\n",
              "    <tr>\n",
              "      <th>3</th>\n",
              "      <td>1961-04-01</td>\n",
              "      <td>491.787575</td>\n",
              "      <td>462.638012</td>\n",
              "      <td>521.082527</td>\n",
              "    </tr>\n",
              "    <tr>\n",
              "      <th>4</th>\n",
              "      <td>1961-05-01</td>\n",
              "      <td>496.106650</td>\n",
              "      <td>466.822167</td>\n",
              "      <td>524.479415</td>\n",
              "    </tr>\n",
              "    <tr>\n",
              "      <th>5</th>\n",
              "      <td>1961-06-01</td>\n",
              "      <td>537.150650</td>\n",
              "      <td>510.120959</td>\n",
              "      <td>563.898869</td>\n",
              "    </tr>\n",
              "    <tr>\n",
              "      <th>6</th>\n",
              "      <td>1961-07-01</td>\n",
              "      <td>576.708140</td>\n",
              "      <td>546.286920</td>\n",
              "      <td>607.009761</td>\n",
              "    </tr>\n",
              "    <tr>\n",
              "      <th>7</th>\n",
              "      <td>1961-08-01</td>\n",
              "      <td>577.110838</td>\n",
              "      <td>547.829025</td>\n",
              "      <td>606.685708</td>\n",
              "    </tr>\n",
              "    <tr>\n",
              "      <th>8</th>\n",
              "      <td>1961-09-01</td>\n",
              "      <td>528.558021</td>\n",
              "      <td>500.536728</td>\n",
              "      <td>557.271014</td>\n",
              "    </tr>\n",
              "    <tr>\n",
              "      <th>9</th>\n",
              "      <td>1961-10-01</td>\n",
              "      <td>493.387985</td>\n",
              "      <td>465.677863</td>\n",
              "      <td>522.002126</td>\n",
              "    </tr>\n",
              "    <tr>\n",
              "      <th>10</th>\n",
              "      <td>1961-11-01</td>\n",
              "      <td>459.551557</td>\n",
              "      <td>432.385516</td>\n",
              "      <td>488.801440</td>\n",
              "    </tr>\n",
              "    <tr>\n",
              "      <th>11</th>\n",
              "      <td>1961-12-01</td>\n",
              "      <td>488.931173</td>\n",
              "      <td>461.429905</td>\n",
              "      <td>519.641860</td>\n",
              "    </tr>\n",
              "  </tbody>\n",
              "</table>\n",
              "</div>"
            ],
            "text/plain": [
              "           ds        yhat  yhat_lower  yhat_upper\n",
              "0  1961-01-01  466.171772  435.014087  491.891838\n",
              "1  1961-02-01  460.648849  432.394540  489.076243\n",
              "2  1961-03-01  493.186305  464.772589  520.353632\n",
              "3  1961-04-01  491.787575  462.638012  521.082527\n",
              "4  1961-05-01  496.106650  466.822167  524.479415\n",
              "5  1961-06-01  537.150650  510.120959  563.898869\n",
              "6  1961-07-01  576.708140  546.286920  607.009761\n",
              "7  1961-08-01  577.110838  547.829025  606.685708\n",
              "8  1961-09-01  528.558021  500.536728  557.271014\n",
              "9  1961-10-01  493.387985  465.677863  522.002126\n",
              "10 1961-11-01  459.551557  432.385516  488.801440\n",
              "11 1961-12-01  488.931173  461.429905  519.641860"
            ]
          },
          "metadata": {
            "tags": []
          },
          "execution_count": 28
        }
      ]
    },
    {
      "cell_type": "code",
      "metadata": {
        "id": "tMHvwhuz6Ubf",
        "colab_type": "code",
        "colab": {
          "base_uri": "https://localhost:8080/",
          "height": 865
        },
        "outputId": "4298e910-e8e6-413f-eb3a-cd94f4981398"
      },
      "source": [
        "model.plot(forecast)\n",
        "plt.show()"
      ],
      "execution_count": null,
      "outputs": [
        {
          "output_type": "execute_result",
          "data": {
            "image/png": "[encoded data removed]",
            "text/plain": [
              "<Figure size 720x432 with 1 Axes>"
            ]
          },
          "metadata": {
            "tags": []
          },
          "execution_count": 29
        },
        {
          "output_type": "display_data",
          "data": {
            "image/png": "[encoded data removed]",
            "text/plain": [
              "<Figure size 720x432 with 1 Axes>"
            ]
          },
          "metadata": {
            "tags": []
          }
        }
      ]
    },
    {
      "cell_type": "markdown",
      "metadata": {
        "id": "60pd3DAx6pcE",
        "colab_type": "text"
      },
      "source": [
        "# Evaluation of Model"
      ]
    },
    {
      "cell_type": "code",
      "metadata": {
        "id": "psb3LHJF6Vzw",
        "colab_type": "code",
        "colab": {
          "base_uri": "https://localhost:8080/",
          "height": 402
        },
        "outputId": "c532b5c8-41fa-4977-f31d-facc857b4242"
      },
      "source": [
        "#Split into training & test data\n",
        "train = df.drop(df.index[-12:])\n",
        "train"
      ],
      "execution_count": null,
      "outputs": [
        {
          "output_type": "execute_result",
          "data": {
            "text/html": [
              "<div>\n",
              "<style scoped>\n",
              "    .dataframe tbody tr th:only-of-type {\n",
              "        vertical-align: middle;\n",
              "    }\n",
              "\n",
              "    .dataframe tbody tr th {\n",
              "        vertical-align: top;\n",
              "    }\n",
              "\n",
              "    .dataframe thead th {\n",
              "        text-align: right;\n",
              "    }\n",
              "</style>\n",
              "<table border=\"1\" class=\"dataframe\">\n",
              "  <thead>\n",
              "    <tr style=\"text-align: right;\">\n",
              "      <th></th>\n",
              "      <th>ds</th>\n",
              "      <th>y</th>\n",
              "    </tr>\n",
              "  </thead>\n",
              "  <tbody>\n",
              "    <tr>\n",
              "      <th>0</th>\n",
              "      <td>1949-01-01</td>\n",
              "      <td>112</td>\n",
              "    </tr>\n",
              "    <tr>\n",
              "      <th>1</th>\n",
              "      <td>1949-02-01</td>\n",
              "      <td>118</td>\n",
              "    </tr>\n",
              "    <tr>\n",
              "      <th>2</th>\n",
              "      <td>1949-03-01</td>\n",
              "      <td>132</td>\n",
              "    </tr>\n",
              "    <tr>\n",
              "      <th>3</th>\n",
              "      <td>1949-04-01</td>\n",
              "      <td>129</td>\n",
              "    </tr>\n",
              "    <tr>\n",
              "      <th>4</th>\n",
              "      <td>1949-05-01</td>\n",
              "      <td>121</td>\n",
              "    </tr>\n",
              "    <tr>\n",
              "      <th>...</th>\n",
              "      <td>...</td>\n",
              "      <td>...</td>\n",
              "    </tr>\n",
              "    <tr>\n",
              "      <th>127</th>\n",
              "      <td>1959-08-01</td>\n",
              "      <td>559</td>\n",
              "    </tr>\n",
              "    <tr>\n",
              "      <th>128</th>\n",
              "      <td>1959-09-01</td>\n",
              "      <td>463</td>\n",
              "    </tr>\n",
              "    <tr>\n",
              "      <th>129</th>\n",
              "      <td>1959-10-01</td>\n",
              "      <td>407</td>\n",
              "    </tr>\n",
              "    <tr>\n",
              "      <th>130</th>\n",
              "      <td>1959-11-01</td>\n",
              "      <td>362</td>\n",
              "    </tr>\n",
              "    <tr>\n",
              "      <th>131</th>\n",
              "      <td>1959-12-01</td>\n",
              "      <td>405</td>\n",
              "    </tr>\n",
              "  </tbody>\n",
              "</table>\n",
              "<p>132 rows × 2 columns</p>\n",
              "</div>"
            ],
            "text/plain": [
              "            ds    y\n",
              "0   1949-01-01  112\n",
              "1   1949-02-01  118\n",
              "2   1949-03-01  132\n",
              "3   1949-04-01  129\n",
              "4   1949-05-01  121\n",
              "..         ...  ...\n",
              "127 1959-08-01  559\n",
              "128 1959-09-01  463\n",
              "129 1959-10-01  407\n",
              "130 1959-11-01  362\n",
              "131 1959-12-01  405\n",
              "\n",
              "[132 rows x 2 columns]"
            ]
          },
          "metadata": {
            "tags": []
          },
          "execution_count": 30
        }
      ]
    },
    {
      "cell_type": "code",
      "metadata": {
        "id": "c-_BrP8j7C2y",
        "colab_type": "code",
        "colab": {
          "base_uri": "https://localhost:8080/",
          "height": 67
        },
        "outputId": "1f5c3b50-1c92-485c-afbf-788ed3977beb"
      },
      "source": [
        "model = Prophet()\n",
        "model.fit(train)\n",
        "future = list()\n",
        "for i in range(1, 13):\n",
        "\tdate = '1960-%02d' % i\n",
        "\tfuture.append([date])\n",
        "future = pd.DataFrame(future)\n",
        "future.columns = ['ds']\n",
        "future['ds']= pd.to_datetime(future['ds'])\n",
        "forecast = model.predict(future)\n",
        "y_true = df[\"y\"][-12:].values"
      ],
      "execution_count": null,
      "outputs": [
        {
          "output_type": "stream",
          "text": [
            "INFO:fbprophet:Disabling weekly seasonality. Run prophet with weekly_seasonality=True to override this.\n",
            "INFO:fbprophet:Disabling daily seasonality. Run prophet with daily_seasonality=True to override this.\n"
          ],
          "name": "stderr"
        },
        {
          "output_type": "execute_result",
          "data": {
            "text/plain": [
              "<fbprophet.forecaster.Prophet at 0x7f721550b860>"
            ]
          },
          "metadata": {
            "tags": []
          },
          "execution_count": 31
        }
      ]
    },
    {
      "cell_type": "code",
      "metadata": {
        "id": "X9DlEryq7b1x",
        "colab_type": "code",
        "colab": {}
      },
      "source": [
        "from sklearn.metrics import mean_absolute_error"
      ],
      "execution_count": null,
      "outputs": []
    },
    {
      "cell_type": "code",
      "metadata": {
        "id": "0TZe9cVs7jcJ",
        "colab_type": "code",
        "colab": {}
      },
      "source": [
        "loss = mean_absolute_error(y_true,forecast[\"yhat\"])"
      ],
      "execution_count": null,
      "outputs": []
    },
    {
      "cell_type": "code",
      "metadata": {
        "id": "j2ueRv_8710R",
        "colab_type": "code",
        "colab": {
          "base_uri": "https://localhost:8080/",
          "height": 34
        },
        "outputId": "e500aefa-c215-446d-85e0-befee48df54c"
      },
      "source": [
        "loss"
      ],
      "execution_count": null,
      "outputs": [
        {
          "output_type": "execute_result",
          "data": {
            "text/plain": [
              "33.44531200973683"
            ]
          },
          "metadata": {
            "tags": []
          },
          "execution_count": 34
        }
      ]
    },
    {
      "cell_type": "code",
      "metadata": {
        "id": "D1DWC_zk76Qv",
        "colab_type": "code",
        "colab": {
          "base_uri": "https://localhost:8080/",
          "height": 282
        },
        "outputId": "434dd0ab-9a82-4bc9-f950-016930c94a9d"
      },
      "source": [
        "plt.plot(y_true,label=\"true values\")\n",
        "plt.plot(forecast[\"yhat\"],label = \"predicted values\")\n",
        "plt.legend()\n",
        "plt.show()"
      ],
      "execution_count": null,
      "outputs": [
        {
          "output_type": "execute_result",
          "data": {
            "text/plain": [
              "[<matplotlib.lines.Line2D at 0x7f7212b4e320>]"
            ]
          },
          "metadata": {
            "tags": []
          },
          "execution_count": 35
        },
        {
          "output_type": "execute_result",
          "data": {
            "text/plain": [
              "[<matplotlib.lines.Line2D at 0x7f72153c6ba8>]"
            ]
          },
          "metadata": {
            "tags": []
          },
          "execution_count": 35
        },
        {
          "output_type": "execute_result",
          "data": {
            "text/plain": [
              "<matplotlib.legend.Legend at 0x7f7212b4e6d8>"
            ]
          },
          "metadata": {
            "tags": []
          },
          "execution_count": 35
        },
        {
          "output_type": "display_data",
          "data": {
            "image/png": "[encoded data removed]",
            "text/plain": [
              "<Figure size 432x288 with 1 Axes>"
            ]
          },
          "metadata": {
            "tags": [],
            "needs_background": "light"
          }
        }
      ]
    },
    {
      "cell_type": "code",
      "metadata": {
        "id": "5RECcOmN8LKi",
        "colab_type": "code",
        "colab": {}
      },
      "source": [
        ""
      ],
      "execution_count": null,
      "outputs": []
    }
  ]
}